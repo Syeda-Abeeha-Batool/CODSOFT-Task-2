{
 "cells": [
  {
   "cell_type": "markdown",
   "id": "61f6ec87",
   "metadata": {},
   "source": [
    "# Task 2 Calculator"
   ]
  },
  {
   "cell_type": "code",
   "execution_count": 1,
   "id": "96c07538",
   "metadata": {},
   "outputs": [
    {
     "name": "stdout",
     "output_type": "stream",
     "text": [
      "\t\t\t\t\t\tCALCULATOR\n",
      "\n",
      "\n",
      "\n",
      "Enter first number : 321\n",
      "Enter second number : 123\n",
      "Enter operator (+,*,/,-) : /\n",
      "321 / 123  =  2.6097560975609757\n",
      "Do you want to make more calculations? (Y/y) or (N/n) n\n",
      "\n",
      "Thank you!!\n"
     ]
    }
   ],
   "source": [
    "print(\"\\t\\t\\t\\t\\t\\tCALCULATOR\")\n",
    "print(\"\\n\\n\")\n",
    "choice = True\n",
    "while(choice):\n",
    "    num1 = int(input(\"Enter first number : \"))\n",
    "    num2 = int(input(\"Enter second number : \"))\n",
    "    operator = input(\"Enter operator (+,*,/,-) : \")\n",
    "    result = 0\n",
    "    if operator==\"+\":\n",
    "        result = num1+num2\n",
    "        print(num1,\"+\",num2,\" = \",result)\n",
    "    elif operator==\"-\":\n",
    "        result = num1-num2\n",
    "        print(num1,\"-\",num2,\" = \",result)\n",
    "    elif operator==\"*\":\n",
    "        result = num1*num2\n",
    "        print(num1,\"*\",num2,\" = \",result)\n",
    "    elif operator==\"/\":\n",
    "        result = num1/num2\n",
    "        print(num1,\"/\",num2,\" = \",result)\n",
    "    else:\n",
    "        print(\"Wrong operator entered.\")\n",
    "    \n",
    "    ch = input(\"Do you want to make more calculations? (Y/y) or (N/n) \")\n",
    "    if ch==\"Y\" or ch==\"y\":\n",
    "        choice = True\n",
    "    else:\n",
    "        choice = False\n",
    "        \n",
    "print(\"\\nThank you!!\")    "
   ]
  },
  {
   "cell_type": "code",
   "execution_count": null,
   "id": "99807582",
   "metadata": {},
   "outputs": [],
   "source": []
  }
 ],
 "metadata": {
  "kernelspec": {
   "display_name": "Python 3 (ipykernel)",
   "language": "python",
   "name": "python3"
  },
  "language_info": {
   "codemirror_mode": {
    "name": "ipython",
    "version": 3
   },
   "file_extension": ".py",
   "mimetype": "text/x-python",
   "name": "python",
   "nbconvert_exporter": "python",
   "pygments_lexer": "ipython3",
   "version": "3.10.9"
  }
 },
 "nbformat": 4,
 "nbformat_minor": 5
}
